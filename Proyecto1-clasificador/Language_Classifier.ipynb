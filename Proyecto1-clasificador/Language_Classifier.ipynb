{
 "cells": [
  {
   "cell_type": "markdown",
   "metadata": {
    "ExecuteTime": {
     "end_time": "2020-02-19T11:23:20.365409Z",
     "start_time": "2020-02-19T11:23:20.354206Z"
    }
   },
   "source": [
    "# Language Classification with Naive Bayes in Python"
   ]
  },
  {
   "cell_type": "code",
   "execution_count": 1,
   "metadata": {},
   "outputs": [],
   "source": [
    "import matplotlib\n",
    "%matplotlib inline\n",
    "%config InlineBackend.figure_format = 'svg'\n",
    "import matplotlib.pyplot as plt\n",
    "plt.style.use('ggplot')\n",
    "\n",
    "import numpy as np\n",
    "import string\n",
    "\n",
    "from collections import defaultdict\n",
    "\n",
    "from sklearn.metrics import f1_score\n",
    "from sklearn.naive_bayes import MultinomialNB\n",
    "from sklearn.feature_extraction.text import CountVectorizer\n",
    "\n",
    "import joblib\n",
    "import pickle as pkl\n",
    "# from yellowbrick.classifier import ConfusionMatrix"
   ]
  },
  {
   "cell_type": "markdown",
   "metadata": {},
   "source": [
    "<a id='task1'></a>\n",
    "# Data Exploration and Visualization"
   ]
  },
  {
   "cell_type": "code",
   "execution_count": 2,
   "metadata": {
    "ExecuteTime": {
     "end_time": "2020-02-19T11:23:20.494486Z",
     "start_time": "2020-02-19T11:23:20.491600Z"
    }
   },
   "outputs": [],
   "source": [
    "def open_file(filename):\n",
    "    with open(filename, 'r',encoding=\"utf8\") as f:\n",
    "        data = f.readlines()\n",
    "    return data"
   ]
  },
  {
   "cell_type": "code",
   "execution_count": 3,
   "metadata": {
    "ExecuteTime": {
     "end_time": "2020-02-19T11:23:20.654712Z",
     "start_time": "2020-02-19T11:23:20.651474Z"
    }
   },
   "outputs": [],
   "source": [
    "data_raw = dict()\n",
    "data_raw['sk'] =  open_file('content/train_sentences.sk')\n",
    "data_raw['cs'] =  open_file('content/train_sentences.cs')\n",
    "data_raw['en'] =  open_file('content/train_sentences.en')"
   ]
  },
  {
   "cell_type": "code",
   "execution_count": 4,
   "metadata": {},
   "outputs": [
    {
     "data": {
      "text/plain": [
       "'The European Union is back on its feet.\\n'"
      ]
     },
     "execution_count": 4,
     "metadata": {},
     "output_type": "execute_result"
    }
   ],
   "source": [
    "data_raw['en'][50]"
   ]
  },
  {
   "cell_type": "code",
   "execution_count": 5,
   "metadata": {},
   "outputs": [],
   "source": [
    "def show_statistics(data):\n",
    "    for language, sentences in data.items():\n",
    "        \n",
    "        word_list = ' '.join(sentences).split()\n",
    "        \n",
    "        number_of_sentences = len(sentences)\n",
    "        number_of_words = len(word_list)\n",
    "        number_of_unique_words = len(set(word_list))\n",
    "        sample_extract = ''.join(sentences[0].split(' ')[:7])\n",
    "    \n",
    "        print(f'Language: {language}')\n",
    "        print('-----------------------')\n",
    "        print(f'Number of sentences\\t:\\t {number_of_sentences}')\n",
    "        print(f'Number of words\\t\\t:\\t {number_of_words}')\n",
    "        print(f'Number of unique words\\t:\\t {number_of_unique_words}')\n",
    "        print(f'Sample extract\\t\\t:\\t {sample_extract}...\\n')"
   ]
  },
  {
   "cell_type": "code",
   "execution_count": 6,
   "metadata": {},
   "outputs": [
    {
     "name": "stdout",
     "output_type": "stream",
     "text": [
      "Language: sk\n",
      "-----------------------\n",
      "Number of sentences\t:\t 100\n",
      "Number of words\t\t:\t 2016\n",
      "Number of unique words\t:\t 1322\n",
      "Sample extract\t\t:\t PándeGrandesPascualjasnevysvetlil,aká...\n",
      "\n",
      "Language: cs\n",
      "-----------------------\n",
      "Number of sentences\t:\t 10\n",
      "Number of words\t\t:\t 158\n",
      "Number of unique words\t:\t 141\n",
      "Sample extract\t\t:\t Upozorňujeme,žejejímcílemješetřitpenězi...\n",
      "\n",
      "Language: en\n",
      "-----------------------\n",
      "Number of sentences\t:\t 100\n",
      "Number of words\t\t:\t 2381\n",
      "Number of unique words\t:\t 1037\n",
      "Sample extract\t\t:\t Icanunderstandyourapproachalittle...\n",
      "\n"
     ]
    }
   ],
   "source": [
    "show_statistics(data_raw)"
   ]
  },
  {
   "cell_type": "markdown",
   "metadata": {},
   "source": [
    "<a id='task2'></a>\n",
    "# Data Cleaning and Preprocessing"
   ]
  },
  {
   "cell_type": "code",
   "execution_count": 7,
   "metadata": {},
   "outputs": [],
   "source": [
    "def text_process(text):\n",
    "    \n",
    "    preprocessed_text = text\n",
    "    preprocessed_text = text.lower().replace('-',' ')\n",
    "    translation_table = str.maketrans('\\n',' ', string.punctuation+string.digits)\n",
    "    preprocessed_text = preprocessed_text.translate(translation_table)\n",
    "    \n",
    "    return preprocessed_text"
   ]
  },
  {
   "cell_type": "code",
   "execution_count": 8,
   "metadata": {},
   "outputs": [],
   "source": [
    "data_preprocessed = {k: [text_process(sentence) for sentence in v] for k, v in data_raw.items()}"
   ]
  },
  {
   "cell_type": "code",
   "execution_count": 9,
   "metadata": {},
   "outputs": [
    {
     "name": "stdout",
     "output_type": "stream",
     "text": [
      "ORIGINAL STATISTICS\n",
      "Language: sk\n",
      "-----------------------\n",
      "Number of sentences\t:\t 100\n",
      "Number of words\t\t:\t 2016\n",
      "Number of unique words\t:\t 1322\n",
      "Sample extract\t\t:\t PándeGrandesPascualjasnevysvetlil,aká...\n",
      "\n",
      "Language: cs\n",
      "-----------------------\n",
      "Number of sentences\t:\t 10\n",
      "Number of words\t\t:\t 158\n",
      "Number of unique words\t:\t 141\n",
      "Sample extract\t\t:\t Upozorňujeme,žejejímcílemješetřitpenězi...\n",
      "\n",
      "Language: en\n",
      "-----------------------\n",
      "Number of sentences\t:\t 100\n",
      "Number of words\t\t:\t 2381\n",
      "Number of unique words\t:\t 1037\n",
      "Sample extract\t\t:\t Icanunderstandyourapproachalittle...\n",
      "\n",
      "PREPROCESSED STATISTICS :\n",
      "Language: sk\n",
      "-----------------------\n",
      "Number of sentences\t:\t 100\n",
      "Number of words\t\t:\t 1996\n",
      "Number of unique words\t:\t 1207\n",
      "Sample extract\t\t:\t pándegrandespascualjasnevysvetlilaká...\n",
      "\n",
      "Language: cs\n",
      "-----------------------\n",
      "Number of sentences\t:\t 10\n",
      "Number of words\t\t:\t 155\n",
      "Number of unique words\t:\t 133\n",
      "Sample extract\t\t:\t upozorňujemežejejímcílemješetřitpenězi...\n",
      "\n",
      "Language: en\n",
      "-----------------------\n",
      "Number of sentences\t:\t 100\n",
      "Number of words\t\t:\t 2366\n",
      "Number of unique words\t:\t 904\n",
      "Sample extract\t\t:\t icanunderstandyourapproachalittle...\n",
      "\n"
     ]
    }
   ],
   "source": [
    "print('ORIGINAL STATISTICS')\n",
    "show_statistics(data_raw)\n",
    "print('PREPROCESSED STATISTICS :')\n",
    "show_statistics(data_preprocessed)"
   ]
  },
  {
   "cell_type": "markdown",
   "metadata": {},
   "source": [
    "<a id='task3'></a>\n",
    "# The Naive Bayes Model"
   ]
  },
  {
   "cell_type": "markdown",
   "metadata": {},
   "source": [
    "**Bayes' Theorem**\n",
    "\n",
    "\\begin{equation}\n",
    "P(A | B)=\\frac{P(B | A) \\times P(A)}{P(B)}\n",
    "\\end{equation}\n",
    "\n",
    "Now, let's translate this theory into our specific problem. In our case, where we want to categorise a sentence `my name is Sudarshan` into one of `sk`, `cs`, or `en`, the following are the probabilities we want to determine.\n",
    "\n",
    "\\begin{equation}\n",
    "P(\\text {sk} | \\text {my name is Sudarshan})=\\frac{P(\\text {my name is Sudarshan} | \\text {sk}) \\times P(\\text {sk})}{P(\\text {my name is Sudarshan})}\n",
    "\\end{equation}\n",
    "\n",
    "\\begin{equation}\n",
    "P(\\text {cs} | \\text {my name is Sudarshan})=\\frac{P(\\text {my name is Sudarshan} | \\text {cs}) \\times P(\\text {cs})}{P(\\text {my name is Sudarshan})}\n",
    "\\end{equation}\n",
    "\n",
    "\\begin{equation}\n",
    "P(\\text {en} | \\text {my name is Sudarshan})=\\frac{P(\\text {my name is Sudarshan} | \\text {en}) \\times P(\\text {en})}{P(\\text {my name is Sudarshan})}\n",
    "\\end{equation}"
   ]
  },
  {
   "cell_type": "markdown",
   "metadata": {},
   "source": [
    "## Unseen Data\n",
    "\n",
    "Since we assume conditional independence across our features, our numerator term for any of the above equations can be broken into the following.\n",
    "\n",
    "\\begin{equation}\n",
    "P(\\text {my name is Sudarshan} | \\text {en}) = P(\\text {my} | \\text {en}) \\times P(\\text {name} | \\text {en}) \\times P(\\text {is} | \\text {en}) \\times P(\\text {Sudarshan} | \\text {en})\n",
    "\\end{equation}"
   ]
  },
  {
   "cell_type": "markdown",
   "metadata": {},
   "source": [
    "## Vectorizing Training Data"
   ]
  },
  {
   "cell_type": "markdown",
   "metadata": {},
   "source": [
    "|Sentence   \t||   my   \t| is \t| I \t| love \t| name \t| it \t| Sudarshan \t|\n",
    "|-----------------\t||:------:\t|:--:\t|:-:\t|:----:\t|:----:\t|:--------:\t|:---:\t|\n",
    "| my name is Sudarshan  \t||    1   \t|  1 \t| 0 \t|   0  \t|   1  \t|     0    \t|  1  \t|\n",
    "| I love it \t||    0   \t|  0 \t| 1 \t|   1  \t|   0  \t|     1    \t|  0  \t|"
   ]
  },
  {
   "cell_type": "code",
   "execution_count": 10,
   "metadata": {
    "ExecuteTime": {
     "end_time": "2020-02-19T11:23:22.635948Z",
     "start_time": "2020-02-19T11:23:22.631151Z"
    }
   },
   "outputs": [],
   "source": [
    "sentences_train, y_train =[], []\n",
    "for k, v in data_preprocessed.items():\n",
    "    for sentence in v:\n",
    "        sentences_train.append(sentence)\n",
    "        y_train.append(k)\n",
    "        "
   ]
  },
  {
   "cell_type": "code",
   "execution_count": 11,
   "metadata": {
    "ExecuteTime": {
     "end_time": "2020-02-19T11:23:22.909139Z",
     "start_time": "2020-02-19T11:23:22.907106Z"
    }
   },
   "outputs": [],
   "source": [
    "vectorizer = CountVectorizer()"
   ]
  },
  {
   "cell_type": "code",
   "execution_count": 12,
   "metadata": {
    "ExecuteTime": {
     "end_time": "2020-02-19T11:23:23.077339Z",
     "start_time": "2020-02-19T11:23:23.067991Z"
    }
   },
   "outputs": [
    {
     "data": {
      "text/plain": [
       "<210x2208 sparse matrix of type '<class 'numpy.int64'>'\n",
       "\twith 3867 stored elements in Compressed Sparse Row format>"
      ]
     },
     "execution_count": 12,
     "metadata": {},
     "output_type": "execute_result"
    }
   ],
   "source": [
    "x_train = vectorizer.fit_transform(sentences_train)\n",
    "x_train"
   ]
  },
  {
   "cell_type": "markdown",
   "metadata": {},
   "source": [
    "## Initializing Model Parameters and Training"
   ]
  },
  {
   "cell_type": "code",
   "execution_count": 13,
   "metadata": {
    "ExecuteTime": {
     "end_time": "2020-02-19T11:23:23.489747Z",
     "start_time": "2020-02-19T11:23:23.485139Z"
    }
   },
   "outputs": [
    {
     "data": {
      "text/html": [
       "<style>#sk-container-id-1 {color: black;}#sk-container-id-1 pre{padding: 0;}#sk-container-id-1 div.sk-toggleable {background-color: white;}#sk-container-id-1 label.sk-toggleable__label {cursor: pointer;display: block;width: 100%;margin-bottom: 0;padding: 0.3em;box-sizing: border-box;text-align: center;}#sk-container-id-1 label.sk-toggleable__label-arrow:before {content: \"▸\";float: left;margin-right: 0.25em;color: #696969;}#sk-container-id-1 label.sk-toggleable__label-arrow:hover:before {color: black;}#sk-container-id-1 div.sk-estimator:hover label.sk-toggleable__label-arrow:before {color: black;}#sk-container-id-1 div.sk-toggleable__content {max-height: 0;max-width: 0;overflow: hidden;text-align: left;background-color: #f0f8ff;}#sk-container-id-1 div.sk-toggleable__content pre {margin: 0.2em;color: black;border-radius: 0.25em;background-color: #f0f8ff;}#sk-container-id-1 input.sk-toggleable__control:checked~div.sk-toggleable__content {max-height: 200px;max-width: 100%;overflow: auto;}#sk-container-id-1 input.sk-toggleable__control:checked~label.sk-toggleable__label-arrow:before {content: \"▾\";}#sk-container-id-1 div.sk-estimator input.sk-toggleable__control:checked~label.sk-toggleable__label {background-color: #d4ebff;}#sk-container-id-1 div.sk-label input.sk-toggleable__control:checked~label.sk-toggleable__label {background-color: #d4ebff;}#sk-container-id-1 input.sk-hidden--visually {border: 0;clip: rect(1px 1px 1px 1px);clip: rect(1px, 1px, 1px, 1px);height: 1px;margin: -1px;overflow: hidden;padding: 0;position: absolute;width: 1px;}#sk-container-id-1 div.sk-estimator {font-family: monospace;background-color: #f0f8ff;border: 1px dotted black;border-radius: 0.25em;box-sizing: border-box;margin-bottom: 0.5em;}#sk-container-id-1 div.sk-estimator:hover {background-color: #d4ebff;}#sk-container-id-1 div.sk-parallel-item::after {content: \"\";width: 100%;border-bottom: 1px solid gray;flex-grow: 1;}#sk-container-id-1 div.sk-label:hover label.sk-toggleable__label {background-color: #d4ebff;}#sk-container-id-1 div.sk-serial::before {content: \"\";position: absolute;border-left: 1px solid gray;box-sizing: border-box;top: 0;bottom: 0;left: 50%;z-index: 0;}#sk-container-id-1 div.sk-serial {display: flex;flex-direction: column;align-items: center;background-color: white;padding-right: 0.2em;padding-left: 0.2em;position: relative;}#sk-container-id-1 div.sk-item {position: relative;z-index: 1;}#sk-container-id-1 div.sk-parallel {display: flex;align-items: stretch;justify-content: center;background-color: white;position: relative;}#sk-container-id-1 div.sk-item::before, #sk-container-id-1 div.sk-parallel-item::before {content: \"\";position: absolute;border-left: 1px solid gray;box-sizing: border-box;top: 0;bottom: 0;left: 50%;z-index: -1;}#sk-container-id-1 div.sk-parallel-item {display: flex;flex-direction: column;z-index: 1;position: relative;background-color: white;}#sk-container-id-1 div.sk-parallel-item:first-child::after {align-self: flex-end;width: 50%;}#sk-container-id-1 div.sk-parallel-item:last-child::after {align-self: flex-start;width: 50%;}#sk-container-id-1 div.sk-parallel-item:only-child::after {width: 0;}#sk-container-id-1 div.sk-dashed-wrapped {border: 1px dashed gray;margin: 0 0.4em 0.5em 0.4em;box-sizing: border-box;padding-bottom: 0.4em;background-color: white;}#sk-container-id-1 div.sk-label label {font-family: monospace;font-weight: bold;display: inline-block;line-height: 1.2em;}#sk-container-id-1 div.sk-label-container {text-align: center;}#sk-container-id-1 div.sk-container {/* jupyter's `normalize.less` sets `[hidden] { display: none; }` but bootstrap.min.css set `[hidden] { display: none !important; }` so we also need the `!important` here to be able to override the default hidden behavior on the sphinx rendered scikit-learn.org. See: https://github.com/scikit-learn/scikit-learn/issues/21755 */display: inline-block !important;position: relative;}#sk-container-id-1 div.sk-text-repr-fallback {display: none;}</style><div id=\"sk-container-id-1\" class=\"sk-top-container\"><div class=\"sk-text-repr-fallback\"><pre>MultinomialNB()</pre><b>In a Jupyter environment, please rerun this cell to show the HTML representation or trust the notebook. <br />On GitHub, the HTML representation is unable to render, please try loading this page with nbviewer.org.</b></div><div class=\"sk-container\" hidden><div class=\"sk-item\"><div class=\"sk-estimator sk-toggleable\"><input class=\"sk-toggleable__control sk-hidden--visually\" id=\"sk-estimator-id-1\" type=\"checkbox\" checked><label for=\"sk-estimator-id-1\" class=\"sk-toggleable__label sk-toggleable__label-arrow\">MultinomialNB</label><div class=\"sk-toggleable__content\"><pre>MultinomialNB()</pre></div></div></div></div></div>"
      ],
      "text/plain": [
       "MultinomialNB()"
      ]
     },
     "execution_count": 13,
     "metadata": {},
     "output_type": "execute_result"
    }
   ],
   "source": [
    "naive_bayes = MultinomialNB()\n",
    "naive_bayes.fit(x_train,y_train) #alpha is smoothening constant, takes into account unseen literals like name - 'Sudarshan'"
   ]
  },
  {
   "cell_type": "markdown",
   "metadata": {},
   "source": [
    "## Vectorizing Validation Data and Evaluating Model"
   ]
  },
  {
   "cell_type": "code",
   "execution_count": 14,
   "metadata": {
    "ExecuteTime": {
     "end_time": "2020-02-19T11:23:23.636788Z",
     "start_time": "2020-02-19T11:23:23.621292Z"
    }
   },
   "outputs": [],
   "source": [
    "data_val = dict()\n",
    "data_val['sk'] = open_file('val_sentences.sk')\n",
    "data_val['cs'] = open_file('val_sentences.cs')\n",
    "data_val['en'] = open_file('val_sentences.en')\n",
    "\n",
    "data_val_preprocessed = {k: [text_process(sentence) for sentence in v] for k,v in data_val.items()}"
   ]
  },
  {
   "cell_type": "code",
   "execution_count": 15,
   "metadata": {
    "ExecuteTime": {
     "end_time": "2020-02-19T11:23:23.934515Z",
     "start_time": "2020-02-19T11:23:23.759224Z"
    }
   },
   "outputs": [],
   "source": [
    "sentences_val, y_val = [], []\n",
    "for k,v in data_val_preprocessed.items():\n",
    "    for sentence in v:\n",
    "        sentences_val.append(sentence)\n",
    "        y_val.append(k)"
   ]
  },
  {
   "cell_type": "code",
   "execution_count": 16,
   "metadata": {
    "ExecuteTime": {
     "end_time": "2020-02-19T11:23:24.185184Z",
     "start_time": "2020-02-19T11:23:23.936169Z"
    }
   },
   "outputs": [],
   "source": [
    "x_val = vectorizer.transform(sentences_val)"
   ]
  },
  {
   "cell_type": "code",
   "execution_count": 17,
   "metadata": {
    "ExecuteTime": {
     "end_time": "2020-02-19T11:23:24.190168Z",
     "start_time": "2020-02-19T11:23:24.187055Z"
    }
   },
   "outputs": [
    {
     "data": {
      "text/plain": [
       "array(['sk', 'sk', 'sk', ..., 'en', 'en', 'en'], dtype='<U2')"
      ]
     },
     "execution_count": 17,
     "metadata": {},
     "output_type": "execute_result"
    }
   ],
   "source": [
    "predictions = naive_bayes.predict(x_val)\n",
    "predictions"
   ]
  },
  {
   "cell_type": "code",
   "execution_count": 18,
   "metadata": {
    "ExecuteTime": {
     "end_time": "2020-02-19T11:23:24.195726Z",
     "start_time": "2020-02-19T11:23:24.191814Z"
    }
   },
   "outputs": [
    {
     "name": "stdout",
     "output_type": "stream",
     "text": [
      "[[4886    0  114]\n",
      " [4077  534  389]\n",
      " [   0    0 5000]]\n"
     ]
    }
   ],
   "source": [
    "from sklearn.metrics import confusion_matrix\n",
    "print(confusion_matrix(y_val, predictions, labels=['sk','cs','en']))"
   ]
  },
  {
   "cell_type": "code",
   "execution_count": 19,
   "metadata": {},
   "outputs": [
    {
     "data": {
      "text/plain": [
       "0.6149824401040264"
      ]
     },
     "execution_count": 19,
     "metadata": {},
     "output_type": "execute_result"
    }
   ],
   "source": [
    "f1_score(y_val, predictions, average='weighted')"
   ]
  },
  {
   "cell_type": "markdown",
   "metadata": {},
   "source": [
    "<a id='task4'></a>\n",
    "# Simple Adjustments and Highlighting Model Shortcomings"
   ]
  },
  {
   "cell_type": "code",
   "execution_count": 57,
   "metadata": {
    "ExecuteTime": {
     "end_time": "2020-02-19T11:30:37.132532Z",
     "start_time": "2020-02-19T11:30:36.951960Z"
    }
   },
   "outputs": [
    {
     "data": {
      "text/plain": [
       "array([[4847,  135,   18],\n",
       "       [3688, 1214,   98],\n",
       "       [  18,   55, 4927]], dtype=int64)"
      ]
     },
     "execution_count": 57,
     "metadata": {},
     "output_type": "execute_result"
    }
   ],
   "source": [
    "naive_bayes = MultinomialNB(alpha= 0.0001, fit_prior = False) \n",
    "#alpha takes care for values which are not present in language dictionary.\n",
    "# fit_prior is false to avoid prior probability otherwise prob will be biased towards 'sk' and 'eng'.Since cs has less sentences.\n",
    "naive_bayes.fit(x_train,y_train)\n",
    "predictions = naive_bayes.predict(x_val)\n",
    "#confusion_matrix(y_val,predictions, ['sk','cs','en'])\n",
    "confusion_matrix(y_val, predictions, labels=['sk','cs','en'])\n"
   ]
  },
  {
   "cell_type": "code",
   "execution_count": 58,
   "metadata": {},
   "outputs": [
    {
     "data": {
      "text/plain": [
       "0.6918616511767245"
      ]
     },
     "execution_count": 58,
     "metadata": {},
     "output_type": "execute_result"
    }
   ],
   "source": [
    "f1_score(y_val, predictions, average='weighted')"
   ]
  },
  {
   "cell_type": "markdown",
   "metadata": {},
   "source": [
    "<a id='task5'></a>\n",
    "# Using Subwords to Shift Perspective"
   ]
  },
  {
   "cell_type": "markdown",
   "metadata": {},
   "source": [
    "**Dummy Dataset**\n",
    "\n",
    "playing ; eating ; play ; reads ; tea\n",
    "\n",
    "**Step 1**\n",
    "\n",
    "Break each word into characters\n",
    "\n",
    "playing > p l a y i n g\n",
    "\n",
    "\n",
    "**Step 2**\n",
    "\n",
    "Find common character sequences\n",
    "\n",
    "ea, ing, play\n",
    "\n",
    "**Step 3**\n",
    "\n",
    "Convert dataset using these subwords into\n",
    "\n",
    "play ing ; ea t ing ; play ; r ea d s ; t ea"
   ]
  },
  {
   "cell_type": "markdown",
   "metadata": {},
   "source": [
    "## get_vocab Function :\n",
    "1. Takes in sentence_train as input and splits each sentence into words.\n",
    "2. Followed by splitting each word into letters and storing them in a dict with their frequency.\n",
    "\n",
    "\n",
    "## get_stats Function :\n",
    "1. Takes in vocab dictionary as input.\n",
    "2. Split each word into letters and store it in symbols.\n",
    "3. Form a dictionary with keys as two frequent letters and values with their frequency.\n",
    "4. Return the pair frequency.\n"
   ]
  },
  {
   "cell_type": "code",
   "execution_count": 59,
   "metadata": {
    "ExecuteTime": {
     "end_time": "2020-02-21T14:31:24.609673Z",
     "start_time": "2020-02-21T14:31:24.591140Z"
    }
   },
   "outputs": [],
   "source": [
    "# taken from https://arxiv.org/abs/1508.07909\n",
    "\n",
    "import re, collections\n",
    "def get_stats(vocab):\n",
    "    pairs = collections.defaultdict(int) \n",
    "    for word, freq in vocab.items():\n",
    "        symbols = word.split()\n",
    "        for i in range(len(symbols)-1):\n",
    "            pairs[symbols[i],symbols[i+1]] += freq \n",
    "    return pairs\n",
    "\n",
    "def merge_vocab(pair, v_in):\n",
    "    v_out = {}\n",
    "    bigram = re.escape(' '.join(pair))\n",
    "    p = re.compile(r'(?<!\\S)' + bigram + r'(?!\\S)')\n",
    "    for word in v_in:\n",
    "        w_out = p.sub(''.join(pair), word)\n",
    "        v_out[w_out] = v_in[word] \n",
    "    return v_out"
   ]
  },
  {
   "cell_type": "code",
   "execution_count": 60,
   "metadata": {
    "ExecuteTime": {
     "end_time": "2020-02-21T14:33:38.592851Z",
     "start_time": "2020-02-21T14:33:38.588298Z"
    }
   },
   "outputs": [],
   "source": [
    "def get_vocab(data):\n",
    "\n",
    "    words = []\n",
    "    for sentence in data:\n",
    "        words.extend(sentence.split())\n",
    "     \n",
    "    vocab = defaultdict(int)\n",
    "    for word in words:\n",
    "        vocab[' '.join(word)] += 1\n",
    "        \n",
    "    return vocab"
   ]
  },
  {
   "cell_type": "code",
   "execution_count": 61,
   "metadata": {
    "ExecuteTime": {
     "end_time": "2020-02-21T14:42:30.908840Z",
     "start_time": "2020-02-21T14:42:30.902323Z"
    }
   },
   "outputs": [],
   "source": [
    "vocab = get_vocab(sentences_train)\n",
    "# vocab"
   ]
  },
  {
   "cell_type": "code",
   "execution_count": 62,
   "metadata": {
    "ExecuteTime": {
     "end_time": "2020-02-21T15:08:23.046799Z",
     "start_time": "2020-02-21T15:08:22.512182Z"
    }
   },
   "outputs": [],
   "source": [
    "# also taken from original paper\n",
    "for i in range(100):\n",
    "    pairs = get_stats(vocab)\n",
    "#     print(pairs)\n",
    "    best = max(pairs, key=pairs.get)\n",
    "#     print(best)\n",
    "    vocab = merge_vocab(best, vocab)\n",
    "     "
   ]
  },
  {
   "cell_type": "code",
   "execution_count": 63,
   "metadata": {
    "ExecuteTime": {
     "end_time": "2020-02-21T15:08:35.050453Z",
     "start_time": "2020-02-21T15:08:35.018188Z"
    }
   },
   "outputs": [],
   "source": [
    "merges = defaultdict(int)\n",
    "for k, v in vocab.items():\n",
    "    for subword in k.split():\n",
    "        if len(subword) >=2:\n",
    "            merges[subword] += v"
   ]
  },
  {
   "cell_type": "code",
   "execution_count": 64,
   "metadata": {
    "ExecuteTime": {
     "end_time": "2020-02-21T15:48:55.818520Z",
     "start_time": "2020-02-21T15:48:55.815608Z"
    }
   },
   "outputs": [],
   "source": [
    "merge_ordered = sorted(merges, key=merges.get, reverse=True)"
   ]
  },
  {
   "cell_type": "code",
   "execution_count": 65,
   "metadata": {},
   "outputs": [],
   "source": [
    "pkl.dump(merge_ordered, open('merge_ordered.pkl', 'wb'))"
   ]
  },
  {
   "cell_type": "code",
   "execution_count": 66,
   "metadata": {
    "ExecuteTime": {
     "end_time": "2020-02-21T16:00:58.478086Z",
     "start_time": "2020-02-21T16:00:58.474166Z"
    }
   },
   "outputs": [],
   "source": [
    "def split_into_subwords(text):\n",
    "    merges = pkl.load(open('merge_ordered.pkl', 'rb'))\n",
    "    subwords = []\n",
    "    for word in text.split():\n",
    "        for subword in merges:\n",
    "            subword_count = word.count(subword)\n",
    "            if subword_count > 0:\n",
    "                word = word.replace(subword, ' ')\n",
    "                subwords.extend([subword]*subword_count)\n",
    "    return ' '.join(subwords)"
   ]
  },
  {
   "cell_type": "code",
   "execution_count": 67,
   "metadata": {
    "ExecuteTime": {
     "end_time": "2020-02-21T16:00:58.872196Z",
     "start_time": "2020-02-21T16:00:58.868568Z"
    }
   },
   "outputs": [
    {
     "data": {
      "text/plain": [
       "'lo na me is an ar'"
      ]
     },
     "execution_count": 67,
     "metadata": {},
     "output_type": "execute_result"
    }
   ],
   "source": [
    "split_into_subwords('Hello My name is Sudarshan')"
   ]
  },
  {
   "cell_type": "code",
   "execution_count": 68,
   "metadata": {},
   "outputs": [],
   "source": [
    "data_preprocessed_subwords = {k: [split_into_subwords(sentence) for sentence in v] for k,v in data_preprocessed.items()}"
   ]
  },
  {
   "cell_type": "code",
   "execution_count": 69,
   "metadata": {
    "ExecuteTime": {
     "end_time": "2020-02-21T17:03:18.258270Z",
     "start_time": "2020-02-21T17:03:18.254862Z"
    }
   },
   "outputs": [
    {
     "name": "stdout",
     "output_type": "stream",
     "text": [
      "Language: sk\n",
      "-----------------------\n",
      "Number of sentences\t:\t 100\n",
      "Number of words\t\t:\t 3431\n",
      "Number of unique words\t:\t 75\n",
      "Sample extract\t\t:\t deandealasneas...\n",
      "\n",
      "Language: cs\n",
      "-----------------------\n",
      "Number of sentences\t:\t 10\n",
      "Number of words\t\t:\t 239\n",
      "Number of unique words\t:\t 59\n",
      "Sample extract\t\t:\t pojemeoržejele...\n",
      "\n",
      "Language: en\n",
      "-----------------------\n",
      "Number of sentences\t:\t 100\n",
      "Number of words\t\t:\t 3863\n",
      "Number of unique words\t:\t 75\n",
      "Sample extract\t\t:\t anstanerouroch...\n",
      "\n"
     ]
    }
   ],
   "source": [
    "show_statistics(data_preprocessed_subwords)"
   ]
  },
  {
   "cell_type": "code",
   "execution_count": 70,
   "metadata": {
    "ExecuteTime": {
     "end_time": "2020-02-21T17:03:45.654014Z",
     "start_time": "2020-02-21T17:03:45.245540Z"
    }
   },
   "outputs": [],
   "source": [
    "data_train_subwords = []\n",
    "for sentence in sentences_train:\n",
    "    data_train_subwords.append(split_into_subwords(sentence))"
   ]
  },
  {
   "cell_type": "code",
   "execution_count": 71,
   "metadata": {
    "ExecuteTime": {
     "end_time": "2020-02-21T17:03:47.710148Z",
     "start_time": "2020-02-21T17:03:47.400758Z"
    }
   },
   "outputs": [],
   "source": [
    "data_val_subwords = []\n",
    "for sentence in sentences_val:\n",
    "    data_val_subwords.append(split_into_subwords(sentence))\n"
   ]
  },
  {
   "cell_type": "code",
   "execution_count": 72,
   "metadata": {},
   "outputs": [],
   "source": [
    "vectorizer = CountVectorizer()"
   ]
  },
  {
   "cell_type": "code",
   "execution_count": 73,
   "metadata": {},
   "outputs": [],
   "source": [
    "x_train = vectorizer.fit_transform(data_train_subwords)\n",
    "x_val = vectorizer.transform(data_val_subwords)"
   ]
  },
  {
   "cell_type": "code",
   "execution_count": 74,
   "metadata": {},
   "outputs": [],
   "source": [
    "naive_bayes = MultinomialNB(alpha= 1.0, fit_prior = False)"
   ]
  },
  {
   "cell_type": "code",
   "execution_count": 75,
   "metadata": {},
   "outputs": [],
   "source": [
    "naive_bayes.fit(x_train,y_train)\n",
    "predictions = naive_bayes.predict(x_val)"
   ]
  },
  {
   "cell_type": "code",
   "execution_count": 76,
   "metadata": {},
   "outputs": [
    {
     "data": {
      "text/plain": [
       "array([[4684,  303,   13],\n",
       "       [1799, 3134,   67],\n",
       "       [  14,   61, 4925]], dtype=int64)"
      ]
     },
     "execution_count": 76,
     "metadata": {},
     "output_type": "execute_result"
    }
   ],
   "source": [
    "confusion_matrix(y_val,predictions,labels=['sk','cs','en'])"
   ]
  },
  {
   "cell_type": "code",
   "execution_count": 77,
   "metadata": {},
   "outputs": [
    {
     "data": {
      "text/plain": [
       "0.8456381060126386"
      ]
     },
     "execution_count": 77,
     "metadata": {},
     "output_type": "execute_result"
    }
   ],
   "source": [
    "f1_score(y_val ,predictions, average='weighted')"
   ]
  },
  {
   "cell_type": "code",
   "execution_count": 78,
   "metadata": {},
   "outputs": [
    {
     "data": {
      "text/plain": [
       "['final_model.joblib']"
      ]
     },
     "execution_count": 78,
     "metadata": {},
     "output_type": "execute_result"
    }
   ],
   "source": [
    "joblib.dump(naive_bayes, 'final_model.joblib')\n",
    "joblib.dump(vectorizer, 'final_model.joblib')"
   ]
  },
  {
   "cell_type": "markdown",
   "metadata": {},
   "source": [
    "### EVALUATING OUR LANGUAGE CLASSIFICATION MODEL"
   ]
  },
  {
   "cell_type": "code",
   "execution_count": 88,
   "metadata": {},
   "outputs": [],
   "source": [
    "model = joblib.load('final_model.joblib')\n",
    "vectorizer = joblib.load('final_model.joblib')"
   ]
  },
  {
   "cell_type": "code",
   "execution_count": 99,
   "metadata": {},
   "outputs": [
    {
     "data": {
      "text/plain": [
       "'cs'"
      ]
     },
     "execution_count": 99,
     "metadata": {},
     "output_type": "execute_result"
    }
   ],
   "source": [
    "text = \"czec a slovenština jsou velmi podobné jazyky.\" #czec and slovak are very similar languages.\n",
    "text = text_process(text)\n",
    "text = [split_into_subwords(text)]\n",
    "text_vectorized = vectorizer.transform(text)\n",
    "#print(text_vectorized)\n",
    "#model.predict(text_vectorized)[0]\n",
    "\n",
    "predictions = naive_bayes.predict(text_vectorized)[0]\n",
    "predictions"
   ]
  },
  {
   "cell_type": "code",
   "execution_count": 100,
   "metadata": {},
   "outputs": [
    {
     "data": {
      "text/plain": [
       "'cs'"
      ]
     },
     "execution_count": 100,
     "metadata": {},
     "output_type": "execute_result"
    }
   ],
   "source": [
    "text = \"Ahoj, pekný deň!\" #Hello, have great day!.\n",
    "text = text_process(text)\n",
    "text = [split_into_subwords(text)]\n",
    "text_vectorized = vectorizer.transform(text)\n",
    "\n",
    "#model.predict(text_vectorized)[0]\n",
    "naive_bayes.predict(text_vectorized)[0]"
   ]
  },
  {
   "cell_type": "code",
   "execution_count": 101,
   "metadata": {},
   "outputs": [
    {
     "data": {
      "text/plain": [
       "'en'"
      ]
     },
     "execution_count": 101,
     "metadata": {},
     "output_type": "execute_result"
    }
   ],
   "source": [
    "text = \"Hello mate! Glad you reached till the end!\" \n",
    "text = text_process(text)\n",
    "text = [split_into_subwords(text)]\n",
    "text_vectorized = vectorizer.transform(text)\n",
    "\n",
    "naive_bayes.predict(text_vectorized)[0]"
   ]
  }
 ],
 "metadata": {
  "kernelspec": {
   "display_name": "Python 3",
   "language": "python",
   "name": "python3"
  },
  "language_info": {
   "codemirror_mode": {
    "name": "ipython",
    "version": 3
   },
   "file_extension": ".py",
   "mimetype": "text/x-python",
   "name": "python",
   "nbconvert_exporter": "python",
   "pygments_lexer": "ipython3",
   "version": "3.11.6"
  }
 },
 "nbformat": 4,
 "nbformat_minor": 4
}
